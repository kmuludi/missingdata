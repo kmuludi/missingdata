{
 "cells": [
  {
   "cell_type": "code",
   "execution_count": null,
   "id": "4eec83d3",
   "metadata": {},
   "outputs": [],
   "source": [
    "import pandas as pd\n",
    "import numpy as np\n",
    "from sklearn.neighbors import NearestNeighbors\n",
    "from scipy.spatial.distance import euclidean"
   ]
  },
  {
   "cell_type": "code",
   "execution_count": null,
   "id": "a76f77a8",
   "metadata": {},
   "outputs": [],
   "source": [
    "df = pd.read_csv(\"transfusion_10%.csv\")"
   ]
  },
  {
   "cell_type": "code",
   "execution_count": null,
   "id": "c5ee5361",
   "metadata": {},
   "outputs": [],
   "source": [
    "df"
   ]
  },
  {
   "cell_type": "code",
   "execution_count": null,
   "id": "646b1eb5",
   "metadata": {},
   "outputs": [],
   "source": [
    "df.dtypes"
   ]
  },
  {
   "cell_type": "code",
   "execution_count": null,
   "id": "d458b17c",
   "metadata": {},
   "outputs": [],
   "source": [
    "df.isnull().sum()"
   ]
  },
  {
   "cell_type": "code",
   "execution_count": null,
   "id": "9b3e443e",
   "metadata": {},
   "outputs": [],
   "source": [
    "null_counts = df.isnull().sum().sum()\n",
    "total = df.size\n",
    "null_percentages = 100 * null_counts / total\n",
    "print(\"total nilai :\",total)\n",
    "print(\"nilai hilang :\",null_counts)\n",
    "print(\"persentase :\",null_percentages)"
   ]
  },
  {
   "cell_type": "code",
   "execution_count": null,
   "id": "553162e0",
   "metadata": {},
   "outputs": [],
   "source": [
    "null_counts = df.isnull().sum()\n",
    "null_percentages = 100 * null_counts / len(df)\n",
    "null_percentages"
   ]
  },
  {
   "cell_type": "markdown",
   "id": "b25b20f7",
   "metadata": {},
   "source": [
    "# Imputasi"
   ]
  },
  {
   "cell_type": "code",
   "execution_count": null,
   "id": "a81c618c",
   "metadata": {},
   "outputs": [],
   "source": [
    "def jarak(df2,col):\n",
    "    euc_dist[col] = []\n",
    "    euc_dist_append =euc_dist[col].append\n",
    "    for row in range(df2.shape[0]):\n",
    "        current = df2.index[df2.iloc[:,col] == 0].tolist()\n",
    "        current = current[0]\n",
    "        a = df2.iloc[current,col+1:].tolist()\n",
    "        b = df2.iloc[current,:col].tolist()\n",
    "        x1 = b+a\n",
    "        if(row is not current):\n",
    "            a=df2.iloc[row,col+1:].tolist()\n",
    "            b=df2.iloc[row,:col].tolist()\n",
    "            x2=b+a\n",
    "        else:\n",
    "            continue\n",
    "        dist = euclidean(x1,x2)\n",
    "        euc_dist_append([dist,df2.iloc[row,col]])\n",
    "#         print(\" x1 = \",x1,\"\\n x2 = \",x2,\"\\n distance = \",euc_dist[col])\n",
    "\n",
    "    lst = list(euc_dist[col])\n",
    "    lst.sort()\n",
    "    euc_dist[col] = lst\n",
    "#     print(euc_dist[col])"
   ]
  },
  {
   "cell_type": "code",
   "execution_count": null,
   "id": "dbad8ad2",
   "metadata": {},
   "outputs": [],
   "source": [
    "from collections import Counter\n",
    "def hitung(val, k, temp=None, i=0, counter=0):\n",
    "    counts = Counter(val)\n",
    "    total_count = len(counts)\n",
    "#     print(\"jumlah val:\", total_count)\n",
    "    if counter >= int((k/2)+1) and total_count == 1 :\n",
    "        print(\"median : \",int((k/2)+1))\n",
    "        return temp\n",
    "    elif i is not k:\n",
    "        if temp is None:\n",
    "            temp = val[i]\n",
    "        elif temp != val[i]:\n",
    "            temp = val[i]\n",
    "            counter = 0\n",
    "        # print(f\"temp = {temp} , counter = {counter} , i = {i} , k = {k} , median = {int((k/2)+1)}, val[i] = {val[i]}\")\n",
    "        return hitung(val,k,temp,i+1,counter+1)\n",
    "    else:\n",
    "        return None\n",
    "    \n",
    "def Final(df,col,k):\n",
    "    terdekat = []\n",
    "    mean = 0\n",
    "    std = 0\n",
    "    diffsquared = 0\n",
    "    sum_diffsquared = 0\n",
    "    fuzzy_val = []\n",
    "    euc_val = []\n",
    "    terdekat_append = terdekat.append\n",
    "    fuzzy_append = fuzzy_val.append\n",
    "    \n",
    "    for val in range(k):\n",
    "        terdekat_append(euc_dist[col][val])\n",
    "    \n",
    "    for x,y in terdekat:\n",
    "        mean += y  \n",
    "        euc_val.append(y)\n",
    "    mean /= len(terdekat)\n",
    "    \n",
    "    print(euc_val)\n",
    "    \n",
    "    for x,y in terdekat:\n",
    "        diffsquared = (y-mean)**2\n",
    "        sum_diffsquared = diffsquared + sum_diffsquared\n",
    "    std_dev = ((sum_diffsquared)/len(terdekat))**(1/2)\n",
    "    print(\"mean : \",mean)\n",
    "    print(\"standar deviasi : \",std_dev)\n",
    "    \n",
    "    euc_val.sort()\n",
    "    fuzzy = hitung(euc_val,3)\n",
    "    \n",
    "    for x,y in terdekat:\n",
    "        if fuzzy is None:\n",
    "            fuzzy_append((y,gaussian(y,mean,std_dev)))\n",
    "        else:\n",
    "            fuzzy_val.append((y,fuzzy))\n",
    "        \n",
    "    print(\"fuzzy : \",fuzzy_val)\n",
    "    print(\"fuzzy : \",fuzzy)\n",
    "    \n",
    "    pembilang = 0\n",
    "    penyebut = 0 \n",
    "    \n",
    "    for nilai,bobot in fuzzy_val:\n",
    "        pembilang += nilai*bobot\n",
    "        penyebut += bobot\n",
    "            \n",
    "    print(\"pembilang : \", pembilang)\n",
    "    print(\"penyebut : \",penyebut)\n",
    "    \n",
    "    if fuzzy is not None:\n",
    "        tertimbang = fuzzy\n",
    "    else:\n",
    "        tertimbang = pembilang / penyebut\n",
    "    \n",
    "    print(\"rata-rata tertimbang : \",tertimbang)\n",
    "    index = dummy.index[dummy.iloc[:,col] == 0].tolist()\n",
    "    index = index[0]\n",
    "    \n",
    "    if tertimbang == 0:\n",
    "        tertimbang = dummy.iloc[index-1, col]\n",
    "        \n",
    "    dummy.iloc[index,col] = tertimbang\n",
    "    print(\" \")"
   ]
  },
  {
   "cell_type": "code",
   "execution_count": null,
   "id": "438e5c44",
   "metadata": {},
   "outputs": [],
   "source": [
    "def gaussian(val, mean, std_dev):\n",
    "    gaussian_mf = 2.718**((-1 * (val-mean)**2) / (2 * std_dev**2))\n",
    "    return gaussian_mf"
   ]
  },
  {
   "cell_type": "code",
   "execution_count": null,
   "id": "af8aff38",
   "metadata": {},
   "outputs": [],
   "source": [
    "data = df.iloc[:, :-1]\n",
    "df2 = data.copy()\n",
    "dummy = df2.fillna(0)\n",
    "dummy"
   ]
  },
  {
   "cell_type": "code",
   "execution_count": null,
   "id": "b1582ae0",
   "metadata": {},
   "outputs": [],
   "source": [
    "euc_dist = {}"
   ]
  },
  {
   "cell_type": "code",
   "execution_count": null,
   "id": "e48a354e",
   "metadata": {},
   "outputs": [],
   "source": [
    "for i in range(dummy.shape[1]):\n",
    "    print(\"Kolom :\",i+1)\n",
    "    current = dummy.index[dummy.iloc[:,i] == 0].tolist()\n",
    "    for x in current:\n",
    "        jarak(dummy,i)\n",
    "        Final(dummy,i,3)"
   ]
  },
  {
   "cell_type": "code",
   "execution_count": null,
   "id": "38fb1815",
   "metadata": {},
   "outputs": [],
   "source": [
    "dummy"
   ]
  },
  {
   "cell_type": "code",
   "execution_count": null,
   "id": "76c1c25c",
   "metadata": {},
   "outputs": [],
   "source": [
    "dummy.describe()"
   ]
  },
  {
   "cell_type": "markdown",
   "id": "7f8904a7",
   "metadata": {},
   "source": [
    "# Klasifikasi"
   ]
  },
  {
   "cell_type": "code",
   "execution_count": null,
   "id": "52d1eae1",
   "metadata": {},
   "outputs": [],
   "source": [
    "import tensorflow as tf\n",
    "from tensorflow.keras.models import Sequential\n",
    "from tensorflow.keras.layers import Dense, Dropout\n",
    "from sklearn.preprocessing import MinMaxScaler\n",
    "from sklearn.model_selection import train_test_split\n",
    "\n",
    "# Gantilah df2 dengan data Anda sendiri (x dan y)\n",
    "x = df2.iloc[:, :-1].values\n",
    "y = df2.iloc[:, -1].values\n",
    "\n",
    "# Bagi data menjadi set pelatihan dan pengujian\n",
    "x_train, x_test, y_train, y_test = train_test_split(x, y, test_size=0.25, random_state=15)\n",
    "\n",
    "# Normalisasi data menggunakan MinMaxScaler\n",
    "scaler = MinMaxScaler()\n",
    "x_train = scaler.fit_transform(x_train)\n",
    "x_test = scaler.transform(x_test)\n",
    "\n",
    "# Membangun model\n",
    "model = Sequential([\n",
    "    Dense(128, activation='relu', input_shape=(x_train.shape[1],)),\n",
    "    Dense(64, activation='relu'),\n",
    "    Dense(32, activation='relu'),\n",
    "    Dense(1, activation='sigmoid')\n",
    "])\n",
    "\n",
    "# Kompilasi model dengan binary cross-entropy sebagai fungsi kerugian\n",
    "model.compile(optimizer='adam', loss='binary_crossentropy', metrics=['accuracy'])\n",
    "\n",
    "# Menambahkan Early Stopping untuk menghindari overfitting\n",
    "early_stopping = tf.keras.callbacks.EarlyStopping(patience=5, restore_best_weights=True)\n",
    "\n",
    "# Melatih model\n",
    "model.fit(x_train, y_train, epochs=100, batch_size=32, validation_split=0.1, callbacks=[early_stopping])\n",
    "\n",
    "# Evaluasi model pada data pengujian\n",
    "accuracy = model.evaluate(x_test, y_test)\n",
    "print(f'Test accuracy: {accuracy[1]}')"
   ]
  },
  {
   "cell_type": "code",
   "execution_count": null,
   "id": "e36bcd6f",
   "metadata": {},
   "outputs": [],
   "source": [
    "x = dummy.values\n",
    "y = df.iloc[:, -1].values"
   ]
  },
  {
   "cell_type": "code",
   "execution_count": null,
   "id": "eef3c6d1",
   "metadata": {},
   "outputs": [],
   "source": [
    "x_train, x_test, y_train, y_test = train_test_split(x, y, test_size=0.25, random_state=72)"
   ]
  },
  {
   "cell_type": "code",
   "execution_count": null,
   "id": "22fb87fb",
   "metadata": {},
   "outputs": [],
   "source": [
    "scaler = MinMaxScaler()\n",
    "x_train = scaler.fit_transform(x_train)\n",
    "x_test = scaler.transform(x_test)"
   ]
  },
  {
   "cell_type": "code",
   "execution_count": null,
   "id": "4712a114",
   "metadata": {},
   "outputs": [],
   "source": []
  },
  {
   "cell_type": "code",
   "execution_count": null,
   "id": "a66fe5d4",
   "metadata": {},
   "outputs": [],
   "source": []
  }
 ],
 "metadata": {
  "kernelspec": {
   "display_name": "Python 3 (ipykernel)",
   "language": "python",
   "name": "python3"
  },
  "language_info": {
   "codemirror_mode": {
    "name": "ipython",
    "version": 3
   },
   "file_extension": ".py",
   "mimetype": "text/x-python",
   "name": "python",
   "nbconvert_exporter": "python",
   "pygments_lexer": "ipython3",
   "version": "3.9.13"
  }
 },
 "nbformat": 4,
 "nbformat_minor": 5
}
