{
 "cells": [
  {
   "cell_type": "code",
   "execution_count": null,
   "id": "4eec83d3",
   "metadata": {},
   "outputs": [],
   "source": [
    "import pandas as pd\n",
    "import numpy as np\n",
    "from sklearn.neighbors import NearestNeighbors\n",
    "from scipy.spatial.distance import euclidean"
   ]
  },
  {
   "cell_type": "code",
   "execution_count": null,
   "id": "a76f77a8",
   "metadata": {},
   "outputs": [],
   "source": [
    "df = pd.read_csv(\"transfusion_5%.csv\")"
   ]
  },
  {
   "cell_type": "code",
   "execution_count": null,
   "id": "c5ee5361",
   "metadata": {},
   "outputs": [],
   "source": [
    "df"
   ]
  },
  {
   "cell_type": "code",
   "execution_count": null,
   "id": "62c3aba6",
   "metadata": {},
   "outputs": [],
   "source": [
    "df.dtypes"
   ]
  },
  {
   "cell_type": "code",
   "execution_count": null,
   "id": "3ceeee60",
   "metadata": {},
   "outputs": [],
   "source": [
    "df.isnull().sum()"
   ]
  },
  {
   "cell_type": "code",
   "execution_count": null,
   "id": "d9d77b46",
   "metadata": {},
   "outputs": [],
   "source": [
    "df.isnull().sum().sum()"
   ]
  },
  {
   "cell_type": "code",
   "execution_count": null,
   "id": "e79df31a",
   "metadata": {},
   "outputs": [],
   "source": [
    "null_counts = df.isnull().sum()\n",
    "null_percentages = 100 * null_counts / len(df)\n",
    "null_percentages"
   ]
  },
  {
   "cell_type": "code",
   "execution_count": null,
   "id": "2ece93f6",
   "metadata": {},
   "outputs": [],
   "source": [
    "null_counts = df.isnull().sum().sum()\n",
    "total = df.size\n",
    "null_percentages = 100 * null_counts / total\n",
    "print(\"total nilai :\",total)\n",
    "print(\"nilai hilang :\",null_counts)\n",
    "print(\"persentase :\",null_percentages)"
   ]
  },
  {
   "cell_type": "code",
   "execution_count": null,
   "id": "d786aef5",
   "metadata": {},
   "outputs": [],
   "source": [
    "def jarak(df2,col):\n",
    "    euc_dist[col] = []\n",
    "    euc_dist_append =euc_dist[col].append\n",
    "    for row in range(df2.shape[0]):\n",
    "        current = df2.index[df2.iloc[:,col] == 0].tolist()\n",
    "        current = current[0]\n",
    "        a = df2.iloc[current,col+1:].tolist()\n",
    "        b = df2.iloc[current,:col].tolist()\n",
    "        x1 = b+a\n",
    "        if(row is not current):\n",
    "            a=df2.iloc[row,col+1:].tolist()\n",
    "            b=df2.iloc[row,:col].tolist()\n",
    "            x2=b+a\n",
    "        else:\n",
    "            continue\n",
    "        dist = euclidean(x1,x2)\n",
    "        euc_dist_append([dist,df2.iloc[row,col]])\n",
    "#         print(\" x1 = \",x1,\"\\n x2 = \",x2,\"\\n distance = \",euc_dist[col])\n",
    "\n",
    "    lst = list(euc_dist[col])\n",
    "    lst.sort()\n",
    "    euc_dist[col] = lst\n",
    "#     print(euc_dist[col])"
   ]
  },
  {
   "cell_type": "code",
   "execution_count": null,
   "id": "d7cc59ed",
   "metadata": {},
   "outputs": [],
   "source": [
    "from collections import Counter\n",
    "\n",
    "def hitung(val, k, temp=None, i=0, counter=0):\n",
    "    counts = Counter(val)\n",
    "    total_count = len(counts)\n",
    "#     print(\"jumlah val:\", total_count)\n",
    "    if counter >= int((k/2)+1) and total_count <= 2 :\n",
    "        print(\"median : \",int((k/2)+1))\n",
    "        return temp\n",
    "    elif i is not k:\n",
    "        if temp is None:\n",
    "            temp = val[i]\n",
    "        elif temp != val[i]:\n",
    "            temp = val[i]\n",
    "            counter = 0\n",
    "        # print(f\"temp = {temp} , counter = {counter} , i = {i} , k = {k} , median = {int((k/2)+1)}, val[i] = {val[i]}\")\n",
    "        return hitung(val,k,temp,i+1,counter+1)\n",
    "    else:\n",
    "        return None    \n",
    "\n",
    "def Final(df,col,k):\n",
    "    terdekat = []\n",
    "    mean = 0\n",
    "    minimum = None\n",
    "    maximum = None\n",
    "    fuzzy_val = []\n",
    "    euc_val = []\n",
    "    terdekat_append = terdekat.append\n",
    "    fuzzy_append = fuzzy_val.append\n",
    "    \n",
    "    for val in range(k):\n",
    "        terdekat_append(euc_dist[col][val])\n",
    "    \n",
    "    for x,y in terdekat:\n",
    "        if (minimum is None or maximum is None):\n",
    "            minimum = y\n",
    "            maximum = y\n",
    "        elif(y<minimum):\n",
    "            minimum = y\n",
    "        elif(y>maximum):\n",
    "            maximum = y\n",
    "        mean += y\n",
    "        euc_val.append(y)\n",
    "    mean /= len(terdekat)\n",
    "    euc_val.sort()\n",
    "    print(euc_val)\n",
    "    \n",
    "    fuzzy = hitung(euc_val,7)\n",
    "    print(\"min : \",minimum)\n",
    "    print(\"max : \",maximum)\n",
    "    print(\"mean : \",mean)\n",
    "    for x,y in terdekat:\n",
    "        if fuzzy is None:\n",
    "            fuzzy_append((y,fuzzy_triangular(y,minimum,mean,maximum)))\n",
    "        else:\n",
    "            fuzzy_val.append((y,fuzzy))\n",
    "        \n",
    "    print(\"fuzzy : \",fuzzy_val)\n",
    "    print(\"fuzzy : \",fuzzy)\n",
    "    \n",
    "    pembilang = 0\n",
    "    penyebut = 0 \n",
    "    \n",
    "    for nilai,bobot in fuzzy_val:\n",
    "        pembilang += nilai*bobot\n",
    "        penyebut += bobot\n",
    "            \n",
    "    print(\"pembilang : \", pembilang)\n",
    "    print(\"penyebut : \",penyebut)\n",
    "    \n",
    "    if fuzzy is not None:\n",
    "        tertimbang = fuzzy\n",
    "    else:\n",
    "        tertimbang = pembilang / penyebut\n",
    "    \n",
    "    print(\"rata-rata tertimbang : \",tertimbang)\n",
    "    index = dummy.index[dummy.iloc[:,col] == 0].tolist()\n",
    "    index = index[0]\n",
    "    \n",
    "    if tertimbang == 0:\n",
    "        tertimbang = dummy.iloc[index-1, col]\n",
    "    \n",
    "    dummy.iloc[index,col] = tertimbang\n",
    "    print(\" \")"
   ]
  },
  {
   "cell_type": "code",
   "execution_count": null,
   "id": "05d10ba3",
   "metadata": {},
   "outputs": [],
   "source": [
    "def fuzzy_triangular(val, minimum, mean, maximum):\n",
    "   if val <= minimum or val >= maximum: \n",
    "        return 0.0\n",
    "   elif minimum < val <= mean:\n",
    "        return float((val - minimum)/(mean - minimum)) \n",
    "   elif mean < val < maximum:\n",
    "        return float((maximum - val)/(maximum - mean))"
   ]
  },
  {
   "cell_type": "code",
   "execution_count": null,
   "id": "ed62e08f",
   "metadata": {},
   "outputs": [],
   "source": [
    "data = df.iloc[:, :-1]\n",
    "df2 = df.copy()\n",
    "dummy = df2.fillna(0)\n",
    "dummy"
   ]
  },
  {
   "cell_type": "code",
   "execution_count": null,
   "id": "98a318c0",
   "metadata": {},
   "outputs": [],
   "source": [
    "euc_dist = {}"
   ]
  },
  {
   "cell_type": "code",
   "execution_count": null,
   "id": "f9939758",
   "metadata": {},
   "outputs": [],
   "source": [
    "for i in range(df2.shape[1]):\n",
    "    print(\"Kolom :\",i+1)\n",
    "    current = dummy.index[dummy.iloc[:,i] == 0].tolist()\n",
    "    for x in current:\n",
    "        jarak(dummy,i)\n",
    "        Final(dummy,i,7)\n",
    "dummy"
   ]
  },
  {
   "cell_type": "code",
   "execution_count": null,
   "id": "76c1c25c",
   "metadata": {},
   "outputs": [],
   "source": [
    "dummy.describe()"
   ]
  },
  {
   "cell_type": "markdown",
   "id": "7f8904a7",
   "metadata": {},
   "source": [
    "# Klasifikasi"
   ]
  },
  {
   "cell_type": "code",
   "execution_count": null,
   "id": "52d1eae1",
   "metadata": {},
   "outputs": [],
   "source": [
    "from sklearn.model_selection import train_test_split\n",
    "from sklearn.preprocessing import MinMaxScaler\n",
    "from sklearn.tree import DecisionTreeClassifier\n",
    "from sklearn.metrics import confusion_matrix\n",
    "from sklearn.metrics import accuracy_score"
   ]
  },
  {
   "cell_type": "code",
   "execution_count": null,
   "id": "e36bcd6f",
   "metadata": {},
   "outputs": [],
   "source": [
    "x = dummy.values\n",
    "y = df.iloc[:, -1].values"
   ]
  },
  {
   "cell_type": "code",
   "execution_count": null,
   "id": "eef3c6d1",
   "metadata": {},
   "outputs": [],
   "source": [
    "x_train, x_test, y_train, y_test = train_test_split(x, y, test_size=0.25, random_state=72)"
   ]
  },
  {
   "cell_type": "code",
   "execution_count": null,
   "id": "22fb87fb",
   "metadata": {},
   "outputs": [],
   "source": [
    "scaler = MinMaxScaler()\n",
    "x_train = scaler.fit_transform(x_train)\n",
    "x_test = scaler.transform(x_test)"
   ]
  },
  {
   "cell_type": "code",
   "execution_count": null,
   "id": "2d7c5601",
   "metadata": {},
   "outputs": [],
   "source": [
    "classifier = DecisionTreeClassifier()\n",
    "classifier.fit(x_train, y_train)\n",
    "y_pred = classifier.predict(x_test)\n",
    "cm = confusion_matrix(y_test, y_pred)\n",
    "accuracy = accuracy_score(y_test, y_pred)\n",
    "print(cm)\n",
    "print(accuracy)"
   ]
  }
 ],
 "metadata": {
  "kernelspec": {
   "display_name": "Python 3 (ipykernel)",
   "language": "python",
   "name": "python3"
  },
  "language_info": {
   "codemirror_mode": {
    "name": "ipython",
    "version": 3
   },
   "file_extension": ".py",
   "mimetype": "text/x-python",
   "name": "python",
   "nbconvert_exporter": "python",
   "pygments_lexer": "ipython3",
   "version": "3.9.13"
  }
 },
 "nbformat": 4,
 "nbformat_minor": 5
}
