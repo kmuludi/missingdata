{
 "cells": [
  {
   "cell_type": "code",
   "execution_count": 1,
   "id": "4eec83d3",
   "metadata": {
    "id": "4eec83d3"
   },
   "outputs": [
    {
     "ename": "KeyboardInterrupt",
     "evalue": "",
     "output_type": "error",
     "traceback": [
      "\u001b[1;31m---------------------------------------------------------------------------\u001b[0m",
      "\u001b[1;31mKeyboardInterrupt\u001b[0m                         Traceback (most recent call last)",
      "\u001b[1;32m~\\AppData\\Local\\Temp\\ipykernel_8708\\2224050923.py\u001b[0m in \u001b[0;36m<module>\u001b[1;34m\u001b[0m\n\u001b[1;32m----> 1\u001b[1;33m \u001b[1;32mimport\u001b[0m \u001b[0mpandas\u001b[0m \u001b[1;32mas\u001b[0m \u001b[0mpd\u001b[0m\u001b[1;33m\u001b[0m\u001b[1;33m\u001b[0m\u001b[0m\n\u001b[0m\u001b[0;32m      2\u001b[0m \u001b[1;32mimport\u001b[0m \u001b[0mnumpy\u001b[0m \u001b[1;32mas\u001b[0m \u001b[0mnp\u001b[0m\u001b[1;33m\u001b[0m\u001b[1;33m\u001b[0m\u001b[0m\n\u001b[0;32m      3\u001b[0m \u001b[1;32mfrom\u001b[0m \u001b[0msklearn\u001b[0m\u001b[1;33m.\u001b[0m\u001b[0mneighbors\u001b[0m \u001b[1;32mimport\u001b[0m \u001b[0mNearestNeighbors\u001b[0m\u001b[1;33m\u001b[0m\u001b[1;33m\u001b[0m\u001b[0m\n\u001b[0;32m      4\u001b[0m \u001b[1;32mfrom\u001b[0m \u001b[0mscipy\u001b[0m\u001b[1;33m.\u001b[0m\u001b[0mspatial\u001b[0m\u001b[1;33m.\u001b[0m\u001b[0mdistance\u001b[0m \u001b[1;32mimport\u001b[0m \u001b[0meuclidean\u001b[0m\u001b[1;33m\u001b[0m\u001b[1;33m\u001b[0m\u001b[0m\n",
      "\u001b[1;32m~\\anaconda3\\lib\\site-packages\\pandas\\__init__.py\u001b[0m in \u001b[0;36m<module>\u001b[1;34m\u001b[0m\n\u001b[0;32m    133\u001b[0m )\n\u001b[0;32m    134\u001b[0m \u001b[1;33m\u001b[0m\u001b[0m\n\u001b[1;32m--> 135\u001b[1;33m \u001b[1;32mfrom\u001b[0m \u001b[0mpandas\u001b[0m \u001b[1;32mimport\u001b[0m \u001b[0mapi\u001b[0m\u001b[1;33m,\u001b[0m \u001b[0marrays\u001b[0m\u001b[1;33m,\u001b[0m \u001b[0merrors\u001b[0m\u001b[1;33m,\u001b[0m \u001b[0mio\u001b[0m\u001b[1;33m,\u001b[0m \u001b[0mplotting\u001b[0m\u001b[1;33m,\u001b[0m \u001b[0mtesting\u001b[0m\u001b[1;33m,\u001b[0m \u001b[0mtseries\u001b[0m\u001b[1;33m\u001b[0m\u001b[1;33m\u001b[0m\u001b[0m\n\u001b[0m\u001b[0;32m    136\u001b[0m \u001b[1;32mfrom\u001b[0m \u001b[0mpandas\u001b[0m\u001b[1;33m.\u001b[0m\u001b[0mutil\u001b[0m\u001b[1;33m.\u001b[0m\u001b[0m_print_versions\u001b[0m \u001b[1;32mimport\u001b[0m \u001b[0mshow_versions\u001b[0m\u001b[1;33m\u001b[0m\u001b[1;33m\u001b[0m\u001b[0m\n\u001b[0;32m    137\u001b[0m \u001b[1;33m\u001b[0m\u001b[0m\n",
      "\u001b[1;32m~\\anaconda3\\lib\\site-packages\\pandas\\api\\__init__.py\u001b[0m in \u001b[0;36m<module>\u001b[1;34m\u001b[0m\n\u001b[0;32m      1\u001b[0m \u001b[1;34m\"\"\" public toolkit API \"\"\"\u001b[0m\u001b[1;33m\u001b[0m\u001b[1;33m\u001b[0m\u001b[0m\n\u001b[1;32m----> 2\u001b[1;33m from pandas.api import (  # noqa:F401\n\u001b[0m\u001b[0;32m      3\u001b[0m     \u001b[0mextensions\u001b[0m\u001b[1;33m,\u001b[0m\u001b[1;33m\u001b[0m\u001b[1;33m\u001b[0m\u001b[0m\n\u001b[0;32m      4\u001b[0m     \u001b[0mindexers\u001b[0m\u001b[1;33m,\u001b[0m\u001b[1;33m\u001b[0m\u001b[1;33m\u001b[0m\u001b[0m\n\u001b[0;32m      5\u001b[0m     \u001b[0mtypes\u001b[0m\u001b[1;33m,\u001b[0m\u001b[1;33m\u001b[0m\u001b[1;33m\u001b[0m\u001b[0m\n",
      "\u001b[1;32m~\\anaconda3\\lib\\importlib\\_bootstrap.py\u001b[0m in \u001b[0;36m_find_and_load\u001b[1;34m(name, import_)\u001b[0m\n",
      "\u001b[1;32m~\\anaconda3\\lib\\importlib\\_bootstrap.py\u001b[0m in \u001b[0;36m_find_and_load_unlocked\u001b[1;34m(name, import_)\u001b[0m\n",
      "\u001b[1;32m~\\anaconda3\\lib\\importlib\\_bootstrap.py\u001b[0m in \u001b[0;36m_load_unlocked\u001b[1;34m(spec)\u001b[0m\n",
      "\u001b[1;32m~\\anaconda3\\lib\\importlib\\_bootstrap_external.py\u001b[0m in \u001b[0;36mexec_module\u001b[1;34m(self, module)\u001b[0m\n",
      "\u001b[1;32m~\\anaconda3\\lib\\importlib\\_bootstrap_external.py\u001b[0m in \u001b[0;36mget_code\u001b[1;34m(self, fullname)\u001b[0m\n",
      "\u001b[1;32m~\\anaconda3\\lib\\importlib\\_bootstrap_external.py\u001b[0m in \u001b[0;36mget_data\u001b[1;34m(self, path)\u001b[0m\n",
      "\u001b[1;31mKeyboardInterrupt\u001b[0m: "
     ]
    }
   ],
   "source": [
    "import pandas as pd\n",
    "import numpy as np\n",
    "from sklearn.neighbors import NearestNeighbors\n",
    "from scipy.spatial.distance import euclidean"
   ]
  },
  {
   "cell_type": "code",
   "execution_count": null,
   "id": "a76f77a8",
   "metadata": {
    "id": "a76f77a8"
   },
   "outputs": [],
   "source": [
    "df = pd.read_csv(\"audit_5%.csv\")"
   ]
  },
  {
   "cell_type": "code",
   "execution_count": null,
   "id": "c5ee5361",
   "metadata": {
    "colab": {
     "base_uri": "https://localhost:8080/",
     "height": 488
    },
    "id": "c5ee5361",
    "outputId": "32d5d3d8-deea-4a9f-cf93-94d2718b4acd"
   },
   "outputs": [],
   "source": [
    "df"
   ]
  },
  {
   "cell_type": "code",
   "execution_count": null,
   "id": "646b1eb5",
   "metadata": {
    "colab": {
     "base_uri": "https://localhost:8080/"
    },
    "id": "646b1eb5",
    "outputId": "a25bfa0f-c250-4755-b3b7-b7c1a3a46c1e"
   },
   "outputs": [],
   "source": [
    "df.dtypes"
   ]
  },
  {
   "cell_type": "code",
   "execution_count": null,
   "id": "d458b17c",
   "metadata": {
    "colab": {
     "base_uri": "https://localhost:8080/"
    },
    "id": "d458b17c",
    "outputId": "e1548257-87fe-4d3d-8d4c-584c565c8249"
   },
   "outputs": [],
   "source": [
    "df.isnull().sum()"
   ]
  },
  {
   "cell_type": "code",
   "execution_count": null,
   "id": "065bc2d9",
   "metadata": {
    "colab": {
     "base_uri": "https://localhost:8080/"
    },
    "id": "065bc2d9",
    "outputId": "bf98ce8e-521e-474a-cb57-bbcd11ffbfc9"
   },
   "outputs": [],
   "source": [
    "null_counts = df.isnull().sum().sum()\n",
    "total = df.size\n",
    "null_percentages = 100 * null_counts / total\n",
    "print(\"total nilai :\",total)\n",
    "print(\"nilai hilang :\",null_counts)\n",
    "print(\"persentase :\",null_percentages)"
   ]
  },
  {
   "cell_type": "code",
   "execution_count": null,
   "id": "553162e0",
   "metadata": {
    "colab": {
     "base_uri": "https://localhost:8080/"
    },
    "id": "553162e0",
    "outputId": "5b05db4a-4ed2-4dd5-c015-83fe2a84af2d"
   },
   "outputs": [],
   "source": [
    "null_counts = df.isnull().sum()\n",
    "null_percentages = 100 * null_counts / len(df)\n",
    "null_percentages"
   ]
  },
  {
   "cell_type": "markdown",
   "id": "b25b20f7",
   "metadata": {
    "id": "b25b20f7"
   },
   "source": [
    "# Imputasi"
   ]
  },
  {
   "cell_type": "code",
   "execution_count": null,
   "id": "a81c618c",
   "metadata": {
    "id": "a81c618c"
   },
   "outputs": [],
   "source": [
    "def jarak(df2,col):\n",
    "    euc_dist[col] = []\n",
    "    euc_dist_append =euc_dist[col].append\n",
    "    for row in range(df2.shape[0]):\n",
    "        current = df2.index[df2.iloc[:,col] == 0].tolist()\n",
    "        current = current[0]\n",
    "        a = df2.iloc[current,col+1:].tolist()\n",
    "        b = df2.iloc[current,:col].tolist()\n",
    "        x1 = b+a\n",
    "        if(row is not current):\n",
    "            a=df2.iloc[row,col+1:].tolist()\n",
    "            b=df2.iloc[row,:col].tolist()\n",
    "            x2=b+a\n",
    "        else:\n",
    "            continue\n",
    "        x1 = np.nan_to_num(x1)  # Mengganti nilai NaN dengan 0\n",
    "        x2 = np.nan_to_num(x2)  # Mengganti nilai NaN dengan 0\n",
    "        dist = euclidean(x1,x2)\n",
    "        euc_dist_append([dist,df2.iloc[row,col]])\n",
    "#         print(\" x1 = \",x1,\"\\n x2 = \",x2,\"\\n distance = \",dist)\n",
    "\n",
    "    lst = list(euc_dist[col])\n",
    "    lst.sort()\n",
    "    euc_dist[col] = lst\n",
    "#     print(euc_dist[col])"
   ]
  },
  {
   "cell_type": "code",
   "execution_count": null,
   "id": "8bacd133",
   "metadata": {
    "id": "8bacd133"
   },
   "outputs": [],
   "source": [
    "from collections import Counter\n",
    "\n",
    "def hitung(val, k, temp=None, i=0, counter=0):\n",
    "    counts = Counter(val)\n",
    "    total_count = len(counts)\n",
    "#     print(\"jumlah val:\", total_count)\n",
    "    if counter >= int((k/2)+1) and total_count <= 2 :\n",
    "        print(\"median : \",int((k/2)+1))\n",
    "        return temp\n",
    "    elif i is not k:\n",
    "        if temp is None:\n",
    "            temp = val[i]\n",
    "        elif temp != val[i]:\n",
    "            temp = val[i]\n",
    "            counter = 0\n",
    "        # print(f\"temp = {temp} , counter = {counter} , i = {i} , k = {k} , median = {int((k/2)+1)}, val[i] = {val[i]}\")\n",
    "        return hitung(val,k,temp,i+1,counter+1)\n",
    "    else:\n",
    "        return None    \n",
    "\n",
    "def Final(df,col,k):\n",
    "    terdekat = []\n",
    "    mean = 0\n",
    "    minimum = None\n",
    "    maximum = None\n",
    "    fuzzy_val = []\n",
    "    euc_val = []\n",
    "    terdekat_append = terdekat.append\n",
    "    fuzzy_append = fuzzy_val.append\n",
    "    \n",
    "    for val in range(k):\n",
    "        terdekat_append(euc_dist[col][val])\n",
    "    \n",
    "    for x,y in terdekat:\n",
    "        if (minimum is None or maximum is None):\n",
    "            minimum = y\n",
    "            maximum = y\n",
    "        elif(y<minimum):\n",
    "            minimum = y\n",
    "        elif(y>maximum):\n",
    "            maximum = y\n",
    "        mean += y\n",
    "        euc_val.append(y)\n",
    "    mean /= len(terdekat)\n",
    "    euc_val.sort()\n",
    "    print(euc_val)\n",
    "    \n",
    "    fuzzy = hitung(euc_val,5)\n",
    "    print(\"min : \",minimum)\n",
    "    print(\"max : \",maximum)\n",
    "    print(\"mean : \",mean)\n",
    "    for x,y in terdekat:\n",
    "        if fuzzy is None:\n",
    "            fuzzy_append((y,fuzzy_triangular(y,minimum,mean,maximum)))\n",
    "        else:\n",
    "            fuzzy_val.append((y,fuzzy))\n",
    "        \n",
    "    print(\"fuzzy : \",fuzzy_val)\n",
    "    print(\"fuzzy : \",fuzzy)\n",
    "    \n",
    "    pembilang = 0\n",
    "    penyebut = 0 \n",
    "    \n",
    "    for nilai,bobot in fuzzy_val:\n",
    "        pembilang += nilai*bobot\n",
    "        penyebut += bobot\n",
    "            \n",
    "    print(\"pembilang : \", pembilang)\n",
    "    print(\"penyebut : \",penyebut)\n",
    "    \n",
    "    if fuzzy is not None:\n",
    "        tertimbang = fuzzy\n",
    "    else:\n",
    "        tertimbang = pembilang / penyebut\n",
    "    \n",
    "    print(\"rata-rata tertimbang : \",tertimbang)\n",
    "    index = dummy.index[dummy.iloc[:,col] == 0].tolist()\n",
    "    index = index[0]\n",
    "    dummy.iloc[index,col] = tertimbang\n",
    "    print(\" \")"
   ]
  },
  {
   "cell_type": "code",
   "execution_count": null,
   "id": "438e5c44",
   "metadata": {
    "id": "438e5c44"
   },
   "outputs": [],
   "source": [
    "def fuzzy_triangular(val, minimum, mean, maximum):\n",
    "   if val <= minimum or val >= maximum: \n",
    "        return 0.0\n",
    "   elif minimum < val <= mean:\n",
    "        return float((val - minimum)/(mean - minimum)) \n",
    "   elif mean < val < maximum:\n",
    "        return float((maximum - val)/(maximum - mean))"
   ]
  },
  {
   "cell_type": "code",
   "execution_count": null,
   "id": "af8aff38",
   "metadata": {
    "colab": {
     "base_uri": "https://localhost:8080/",
     "height": 488
    },
    "id": "af8aff38",
    "outputId": "a8f2fd66-2a8e-4c4e-fd3c-8404b39ef7e9"
   },
   "outputs": [],
   "source": [
    "df2 = df.copy()\n",
    "dummy = df2.fillna(0)\n",
    "dummy.fillna(0, inplace=True)\n",
    "dummy"
   ]
  },
  {
   "cell_type": "code",
   "execution_count": null,
   "id": "b1582ae0",
   "metadata": {
    "id": "b1582ae0"
   },
   "outputs": [],
   "source": [
    "euc_dist = {}"
   ]
  },
  {
   "cell_type": "code",
   "execution_count": null,
   "id": "e48a354e",
   "metadata": {
    "colab": {
     "base_uri": "https://localhost:8080/",
     "height": 1000
    },
    "id": "e48a354e",
    "outputId": "b0a4dbba-edbe-485d-c361-e2451ca95d2b"
   },
   "outputs": [],
   "source": [
    "for i in range(df2.shape[1]):\n",
    "    print(\"Kolom :\",i+1)\n",
    "    current = dummy.index[dummy.iloc[:,i] == 0].tolist()\n",
    "    for x in current:\n",
    "        jarak(dummy,i)\n",
    "        Final(dummy,i,5)"
   ]
  },
  {
   "cell_type": "code",
   "execution_count": null,
   "id": "4d3bed44",
   "metadata": {
    "id": "4d3bed44"
   },
   "outputs": [],
   "source": [
    "dummy"
   ]
  },
  {
   "cell_type": "code",
   "execution_count": null,
   "id": "76c1c25c",
   "metadata": {
    "id": "76c1c25c"
   },
   "outputs": [],
   "source": [
    "dummy.describe()"
   ]
  },
  {
   "cell_type": "markdown",
   "id": "7f8904a7",
   "metadata": {
    "id": "7f8904a7"
   },
   "source": [
    "# Klasifikasi"
   ]
  },
  {
   "cell_type": "code",
   "execution_count": null,
   "id": "52d1eae1",
   "metadata": {
    "id": "52d1eae1"
   },
   "outputs": [],
   "source": [
    "from sklearn.model_selection import train_test_split\n",
    "from sklearn.preprocessing import MinMaxScaler\n",
    "from sklearn.tree import DecisionTreeClassifier\n",
    "from sklearn.metrics import confusion_matrix\n",
    "from sklearn.metrics import accuracy_score"
   ]
  },
  {
   "cell_type": "code",
   "execution_count": null,
   "id": "e36bcd6f",
   "metadata": {
    "id": "e36bcd6f"
   },
   "outputs": [],
   "source": [
    "x = dummy.iloc[:, :-1].values\n",
    "y = df.iloc[:, -1].values"
   ]
  },
  {
   "cell_type": "code",
   "execution_count": null,
   "id": "eef3c6d1",
   "metadata": {
    "id": "eef3c6d1"
   },
   "outputs": [],
   "source": [
    "x_train, x_test, y_train, y_test = train_test_split(x, y, test_size=0.25, random_state=0)"
   ]
  },
  {
   "cell_type": "code",
   "execution_count": null,
   "id": "22fb87fb",
   "metadata": {
    "id": "22fb87fb"
   },
   "outputs": [],
   "source": [
    "scaler = MinMaxScaler()\n",
    "x_train = scaler.fit_transform(x_train)\n",
    "x_test = scaler.transform(x_test)"
   ]
  },
  {
   "cell_type": "code",
   "execution_count": null,
   "id": "2d7c5601",
   "metadata": {
    "id": "2d7c5601"
   },
   "outputs": [],
   "source": [
    "classifier = DecisionTreeClassifier()\n",
    "classifier.fit(x_train, y_train)\n",
    "y_pred = classifier.predict(x_test)\n",
    "cm = confusion_matrix(y_test, y_pred)\n",
    "accuracy = accuracy_score(y_test, y_pred)\n",
    "print(cm)\n",
    "print(accuracy)"
   ]
  },
  {
   "cell_type": "code",
   "execution_count": null,
   "id": "c45bd26d",
   "metadata": {
    "id": "c45bd26d"
   },
   "outputs": [],
   "source": []
  },
  {
   "cell_type": "code",
   "execution_count": null,
   "id": "8ed19b3b",
   "metadata": {},
   "outputs": [],
   "source": []
  }
 ],
 "metadata": {
  "colab": {
   "provenance": []
  },
  "kernelspec": {
   "display_name": "Python 3 (ipykernel)",
   "language": "python",
   "name": "python3"
  },
  "language_info": {
   "codemirror_mode": {
    "name": "ipython",
    "version": 3
   },
   "file_extension": ".py",
   "mimetype": "text/x-python",
   "name": "python",
   "nbconvert_exporter": "python",
   "pygments_lexer": "ipython3",
   "version": "3.9.13"
  }
 },
 "nbformat": 4,
 "nbformat_minor": 5
}
