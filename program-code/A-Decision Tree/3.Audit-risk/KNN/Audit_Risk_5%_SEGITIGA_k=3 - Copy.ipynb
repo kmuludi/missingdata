{
 "cells": [
  {
   "cell_type": "code",
   "execution_count": 2,
   "id": "4eec83d3",
   "metadata": {
    "id": "4eec83d3"
   },
   "outputs": [],
   "source": [
    "import pandas as pd\n",
    "import numpy as np\n",
    "from sklearn.neighbors import NearestNeighbors\n",
    "from scipy.spatial.distance import euclidean"
   ]
  },
  {
   "cell_type": "code",
   "execution_count": 3,
   "id": "a76f77a8",
   "metadata": {
    "id": "a76f77a8"
   },
   "outputs": [],
   "source": [
    "df = pd.read_csv(\"audit_5%.csv\")"
   ]
  },
  {
   "cell_type": "code",
   "execution_count": 4,
   "id": "c5ee5361",
   "metadata": {
    "colab": {
     "base_uri": "https://localhost:8080/",
     "height": 488
    },
    "id": "c5ee5361",
    "outputId": "32d5d3d8-deea-4a9f-cf93-94d2718b4acd"
   },
   "outputs": [
    {
     "data": {
      "text/html": [
       "<div>\n",
       "<style scoped>\n",
       "    .dataframe tbody tr th:only-of-type {\n",
       "        vertical-align: middle;\n",
       "    }\n",
       "\n",
       "    .dataframe tbody tr th {\n",
       "        vertical-align: top;\n",
       "    }\n",
       "\n",
       "    .dataframe thead th {\n",
       "        text-align: right;\n",
       "    }\n",
       "</style>\n",
       "<table border=\"1\" class=\"dataframe\">\n",
       "  <thead>\n",
       "    <tr style=\"text-align: right;\">\n",
       "      <th></th>\n",
       "      <th>Sector_score</th>\n",
       "      <th>PARA_A</th>\n",
       "      <th>Score_A</th>\n",
       "      <th>Risk_A</th>\n",
       "      <th>PARA_B</th>\n",
       "      <th>Score_B</th>\n",
       "      <th>Risk_B</th>\n",
       "      <th>TOTAL</th>\n",
       "      <th>numbers</th>\n",
       "      <th>Score_B.1</th>\n",
       "      <th>...</th>\n",
       "      <th>RiSk_E</th>\n",
       "      <th>History</th>\n",
       "      <th>Prob</th>\n",
       "      <th>Risk_F</th>\n",
       "      <th>Score</th>\n",
       "      <th>Inherent_Risk</th>\n",
       "      <th>CONTROL_RISK</th>\n",
       "      <th>Detection_Risk</th>\n",
       "      <th>Audit_Risk</th>\n",
       "      <th>Risk</th>\n",
       "    </tr>\n",
       "  </thead>\n",
       "  <tbody>\n",
       "    <tr>\n",
       "      <th>0</th>\n",
       "      <td>3.89</td>\n",
       "      <td>4.18</td>\n",
       "      <td>0.6</td>\n",
       "      <td>2.508</td>\n",
       "      <td>2.50</td>\n",
       "      <td>0.2</td>\n",
       "      <td>0.500</td>\n",
       "      <td>6.68</td>\n",
       "      <td>5.0</td>\n",
       "      <td>0.2</td>\n",
       "      <td>...</td>\n",
       "      <td>NaN</td>\n",
       "      <td>0.0</td>\n",
       "      <td>0.2</td>\n",
       "      <td>0.0</td>\n",
       "      <td>2.4</td>\n",
       "      <td>8.574</td>\n",
       "      <td>0.4</td>\n",
       "      <td>0.5</td>\n",
       "      <td>NaN</td>\n",
       "      <td>1.0</td>\n",
       "    </tr>\n",
       "    <tr>\n",
       "      <th>1</th>\n",
       "      <td>NaN</td>\n",
       "      <td>0.00</td>\n",
       "      <td>NaN</td>\n",
       "      <td>0.000</td>\n",
       "      <td>4.83</td>\n",
       "      <td>0.2</td>\n",
       "      <td>0.966</td>\n",
       "      <td>4.83</td>\n",
       "      <td>5.0</td>\n",
       "      <td>0.2</td>\n",
       "      <td>...</td>\n",
       "      <td>0.4</td>\n",
       "      <td>0.0</td>\n",
       "      <td>0.2</td>\n",
       "      <td>0.0</td>\n",
       "      <td>2.0</td>\n",
       "      <td>2.554</td>\n",
       "      <td>0.4</td>\n",
       "      <td>0.5</td>\n",
       "      <td>0.5108</td>\n",
       "      <td>0.0</td>\n",
       "    </tr>\n",
       "    <tr>\n",
       "      <th>2</th>\n",
       "      <td>3.89</td>\n",
       "      <td>0.51</td>\n",
       "      <td>0.2</td>\n",
       "      <td>0.102</td>\n",
       "      <td>0.23</td>\n",
       "      <td>0.2</td>\n",
       "      <td>0.046</td>\n",
       "      <td>0.74</td>\n",
       "      <td>5.0</td>\n",
       "      <td>0.2</td>\n",
       "      <td>...</td>\n",
       "      <td>0.4</td>\n",
       "      <td>0.0</td>\n",
       "      <td>0.2</td>\n",
       "      <td>0.0</td>\n",
       "      <td>2.0</td>\n",
       "      <td>1.548</td>\n",
       "      <td>0.4</td>\n",
       "      <td>0.5</td>\n",
       "      <td>0.3096</td>\n",
       "      <td>0.0</td>\n",
       "    </tr>\n",
       "    <tr>\n",
       "      <th>3</th>\n",
       "      <td>3.89</td>\n",
       "      <td>0.00</td>\n",
       "      <td>0.2</td>\n",
       "      <td>NaN</td>\n",
       "      <td>10.80</td>\n",
       "      <td>0.6</td>\n",
       "      <td>6.480</td>\n",
       "      <td>NaN</td>\n",
       "      <td>6.0</td>\n",
       "      <td>0.6</td>\n",
       "      <td>...</td>\n",
       "      <td>0.4</td>\n",
       "      <td>0.0</td>\n",
       "      <td>0.2</td>\n",
       "      <td>NaN</td>\n",
       "      <td>4.4</td>\n",
       "      <td>17.530</td>\n",
       "      <td>0.4</td>\n",
       "      <td>0.5</td>\n",
       "      <td>3.5060</td>\n",
       "      <td>1.0</td>\n",
       "    </tr>\n",
       "    <tr>\n",
       "      <th>4</th>\n",
       "      <td>3.89</td>\n",
       "      <td>0.00</td>\n",
       "      <td>0.2</td>\n",
       "      <td>0.000</td>\n",
       "      <td>0.08</td>\n",
       "      <td>0.2</td>\n",
       "      <td>0.016</td>\n",
       "      <td>0.08</td>\n",
       "      <td>NaN</td>\n",
       "      <td>0.2</td>\n",
       "      <td>...</td>\n",
       "      <td>0.4</td>\n",
       "      <td>NaN</td>\n",
       "      <td>NaN</td>\n",
       "      <td>0.0</td>\n",
       "      <td>2.0</td>\n",
       "      <td>1.416</td>\n",
       "      <td>0.4</td>\n",
       "      <td>0.5</td>\n",
       "      <td>0.2832</td>\n",
       "      <td>0.0</td>\n",
       "    </tr>\n",
       "    <tr>\n",
       "      <th>...</th>\n",
       "      <td>...</td>\n",
       "      <td>...</td>\n",
       "      <td>...</td>\n",
       "      <td>...</td>\n",
       "      <td>...</td>\n",
       "      <td>...</td>\n",
       "      <td>...</td>\n",
       "      <td>...</td>\n",
       "      <td>...</td>\n",
       "      <td>...</td>\n",
       "      <td>...</td>\n",
       "      <td>...</td>\n",
       "      <td>...</td>\n",
       "      <td>...</td>\n",
       "      <td>...</td>\n",
       "      <td>...</td>\n",
       "      <td>...</td>\n",
       "      <td>...</td>\n",
       "      <td>...</td>\n",
       "      <td>...</td>\n",
       "      <td>...</td>\n",
       "    </tr>\n",
       "    <tr>\n",
       "      <th>771</th>\n",
       "      <td>NaN</td>\n",
       "      <td>0.49</td>\n",
       "      <td>0.2</td>\n",
       "      <td>0.098</td>\n",
       "      <td>0.40</td>\n",
       "      <td>0.2</td>\n",
       "      <td>0.080</td>\n",
       "      <td>0.89</td>\n",
       "      <td>5.0</td>\n",
       "      <td>0.2</td>\n",
       "      <td>...</td>\n",
       "      <td>0.4</td>\n",
       "      <td>0.0</td>\n",
       "      <td>0.2</td>\n",
       "      <td>0.0</td>\n",
       "      <td>2.0</td>\n",
       "      <td>1.578</td>\n",
       "      <td>0.4</td>\n",
       "      <td>NaN</td>\n",
       "      <td>0.3156</td>\n",
       "      <td>0.0</td>\n",
       "    </tr>\n",
       "    <tr>\n",
       "      <th>772</th>\n",
       "      <td>55.57</td>\n",
       "      <td>0.47</td>\n",
       "      <td>0.2</td>\n",
       "      <td>0.094</td>\n",
       "      <td>0.37</td>\n",
       "      <td>0.2</td>\n",
       "      <td>0.074</td>\n",
       "      <td>0.84</td>\n",
       "      <td>5.0</td>\n",
       "      <td>0.2</td>\n",
       "      <td>...</td>\n",
       "      <td>0.4</td>\n",
       "      <td>0.0</td>\n",
       "      <td>0.2</td>\n",
       "      <td>0.0</td>\n",
       "      <td>2.0</td>\n",
       "      <td>1.568</td>\n",
       "      <td>0.4</td>\n",
       "      <td>0.5</td>\n",
       "      <td>0.3136</td>\n",
       "      <td>0.0</td>\n",
       "    </tr>\n",
       "    <tr>\n",
       "      <th>773</th>\n",
       "      <td>55.57</td>\n",
       "      <td>0.24</td>\n",
       "      <td>0.2</td>\n",
       "      <td>NaN</td>\n",
       "      <td>0.04</td>\n",
       "      <td>0.2</td>\n",
       "      <td>0.008</td>\n",
       "      <td>0.28</td>\n",
       "      <td>5.0</td>\n",
       "      <td>0.2</td>\n",
       "      <td>...</td>\n",
       "      <td>0.4</td>\n",
       "      <td>0.0</td>\n",
       "      <td>0.2</td>\n",
       "      <td>0.0</td>\n",
       "      <td>2.0</td>\n",
       "      <td>1.456</td>\n",
       "      <td>0.4</td>\n",
       "      <td>0.5</td>\n",
       "      <td>0.2912</td>\n",
       "      <td>0.0</td>\n",
       "    </tr>\n",
       "    <tr>\n",
       "      <th>774</th>\n",
       "      <td>55.57</td>\n",
       "      <td>0.20</td>\n",
       "      <td>0.2</td>\n",
       "      <td>0.040</td>\n",
       "      <td>0.00</td>\n",
       "      <td>0.2</td>\n",
       "      <td>0.000</td>\n",
       "      <td>0.20</td>\n",
       "      <td>NaN</td>\n",
       "      <td>0.2</td>\n",
       "      <td>...</td>\n",
       "      <td>0.4</td>\n",
       "      <td>0.0</td>\n",
       "      <td>0.2</td>\n",
       "      <td>0.0</td>\n",
       "      <td>2.0</td>\n",
       "      <td>1.440</td>\n",
       "      <td>0.4</td>\n",
       "      <td>0.5</td>\n",
       "      <td>0.2880</td>\n",
       "      <td>0.0</td>\n",
       "    </tr>\n",
       "    <tr>\n",
       "      <th>775</th>\n",
       "      <td>55.57</td>\n",
       "      <td>0.00</td>\n",
       "      <td>0.2</td>\n",
       "      <td>0.000</td>\n",
       "      <td>0.00</td>\n",
       "      <td>0.2</td>\n",
       "      <td>NaN</td>\n",
       "      <td>0.00</td>\n",
       "      <td>5.0</td>\n",
       "      <td>0.2</td>\n",
       "      <td>...</td>\n",
       "      <td>NaN</td>\n",
       "      <td>0.0</td>\n",
       "      <td>0.2</td>\n",
       "      <td>0.0</td>\n",
       "      <td>2.0</td>\n",
       "      <td>1.464</td>\n",
       "      <td>0.4</td>\n",
       "      <td>0.5</td>\n",
       "      <td>0.2928</td>\n",
       "      <td>0.0</td>\n",
       "    </tr>\n",
       "  </tbody>\n",
       "</table>\n",
       "<p>776 rows × 26 columns</p>\n",
       "</div>"
      ],
      "text/plain": [
       "     Sector_score  PARA_A  Score_A  Risk_A  PARA_B  Score_B  Risk_B  TOTAL  \\\n",
       "0            3.89    4.18      0.6   2.508    2.50      0.2   0.500   6.68   \n",
       "1             NaN    0.00      NaN   0.000    4.83      0.2   0.966   4.83   \n",
       "2            3.89    0.51      0.2   0.102    0.23      0.2   0.046   0.74   \n",
       "3            3.89    0.00      0.2     NaN   10.80      0.6   6.480    NaN   \n",
       "4            3.89    0.00      0.2   0.000    0.08      0.2   0.016   0.08   \n",
       "..            ...     ...      ...     ...     ...      ...     ...    ...   \n",
       "771           NaN    0.49      0.2   0.098    0.40      0.2   0.080   0.89   \n",
       "772         55.57    0.47      0.2   0.094    0.37      0.2   0.074   0.84   \n",
       "773         55.57    0.24      0.2     NaN    0.04      0.2   0.008   0.28   \n",
       "774         55.57    0.20      0.2   0.040    0.00      0.2   0.000   0.20   \n",
       "775         55.57    0.00      0.2   0.000    0.00      0.2     NaN   0.00   \n",
       "\n",
       "     numbers  Score_B.1  ...  RiSk_E  History  Prob  Risk_F  Score  \\\n",
       "0        5.0        0.2  ...     NaN      0.0   0.2     0.0    2.4   \n",
       "1        5.0        0.2  ...     0.4      0.0   0.2     0.0    2.0   \n",
       "2        5.0        0.2  ...     0.4      0.0   0.2     0.0    2.0   \n",
       "3        6.0        0.6  ...     0.4      0.0   0.2     NaN    4.4   \n",
       "4        NaN        0.2  ...     0.4      NaN   NaN     0.0    2.0   \n",
       "..       ...        ...  ...     ...      ...   ...     ...    ...   \n",
       "771      5.0        0.2  ...     0.4      0.0   0.2     0.0    2.0   \n",
       "772      5.0        0.2  ...     0.4      0.0   0.2     0.0    2.0   \n",
       "773      5.0        0.2  ...     0.4      0.0   0.2     0.0    2.0   \n",
       "774      NaN        0.2  ...     0.4      0.0   0.2     0.0    2.0   \n",
       "775      5.0        0.2  ...     NaN      0.0   0.2     0.0    2.0   \n",
       "\n",
       "     Inherent_Risk  CONTROL_RISK  Detection_Risk  Audit_Risk  Risk  \n",
       "0            8.574           0.4             0.5         NaN   1.0  \n",
       "1            2.554           0.4             0.5      0.5108   0.0  \n",
       "2            1.548           0.4             0.5      0.3096   0.0  \n",
       "3           17.530           0.4             0.5      3.5060   1.0  \n",
       "4            1.416           0.4             0.5      0.2832   0.0  \n",
       "..             ...           ...             ...         ...   ...  \n",
       "771          1.578           0.4             NaN      0.3156   0.0  \n",
       "772          1.568           0.4             0.5      0.3136   0.0  \n",
       "773          1.456           0.4             0.5      0.2912   0.0  \n",
       "774          1.440           0.4             0.5      0.2880   0.0  \n",
       "775          1.464           0.4             0.5      0.2928   0.0  \n",
       "\n",
       "[776 rows x 26 columns]"
      ]
     },
     "execution_count": 4,
     "metadata": {},
     "output_type": "execute_result"
    }
   ],
   "source": [
    "df"
   ]
  },
  {
   "cell_type": "code",
   "execution_count": 5,
   "id": "646b1eb5",
   "metadata": {
    "colab": {
     "base_uri": "https://localhost:8080/"
    },
    "id": "646b1eb5",
    "outputId": "a25bfa0f-c250-4755-b3b7-b7c1a3a46c1e"
   },
   "outputs": [
    {
     "data": {
      "text/plain": [
       "Sector_score      float64\n",
       "PARA_A            float64\n",
       "Score_A           float64\n",
       "Risk_A            float64\n",
       "PARA_B            float64\n",
       "Score_B           float64\n",
       "Risk_B            float64\n",
       "TOTAL             float64\n",
       "numbers           float64\n",
       "Score_B.1         float64\n",
       "Risk_C            float64\n",
       "Money_Value       float64\n",
       "Score_MV          float64\n",
       "Risk_D            float64\n",
       "District_Loss     float64\n",
       "PROB              float64\n",
       "RiSk_E            float64\n",
       "History           float64\n",
       "Prob              float64\n",
       "Risk_F            float64\n",
       "Score             float64\n",
       "Inherent_Risk     float64\n",
       "CONTROL_RISK      float64\n",
       "Detection_Risk    float64\n",
       "Audit_Risk        float64\n",
       "Risk              float64\n",
       "dtype: object"
      ]
     },
     "execution_count": 5,
     "metadata": {},
     "output_type": "execute_result"
    }
   ],
   "source": [
    "df.dtypes"
   ]
  },
  {
   "cell_type": "code",
   "execution_count": 6,
   "id": "d458b17c",
   "metadata": {
    "colab": {
     "base_uri": "https://localhost:8080/"
    },
    "id": "d458b17c",
    "outputId": "e1548257-87fe-4d3d-8d4c-584c565c8249"
   },
   "outputs": [
    {
     "data": {
      "text/plain": [
       "Sector_score      56\n",
       "PARA_A            46\n",
       "Score_A           38\n",
       "Risk_A            46\n",
       "PARA_B            43\n",
       "Score_B           39\n",
       "Risk_B            46\n",
       "TOTAL             34\n",
       "numbers           38\n",
       "Score_B.1         26\n",
       "Risk_C            41\n",
       "Money_Value       43\n",
       "Score_MV          35\n",
       "Risk_D            35\n",
       "District_Loss     24\n",
       "PROB              45\n",
       "RiSk_E            48\n",
       "History           48\n",
       "Prob              43\n",
       "Risk_F            40\n",
       "Score             37\n",
       "Inherent_Risk     33\n",
       "CONTROL_RISK      35\n",
       "Detection_Risk    42\n",
       "Audit_Risk        49\n",
       "Risk               0\n",
       "dtype: int64"
      ]
     },
     "execution_count": 6,
     "metadata": {},
     "output_type": "execute_result"
    }
   ],
   "source": [
    "df.isnull().sum()"
   ]
  },
  {
   "cell_type": "code",
   "execution_count": 7,
   "id": "065bc2d9",
   "metadata": {
    "colab": {
     "base_uri": "https://localhost:8080/"
    },
    "id": "065bc2d9",
    "outputId": "bf98ce8e-521e-474a-cb57-bbcd11ffbfc9"
   },
   "outputs": [
    {
     "name": "stdout",
     "output_type": "stream",
     "text": [
      "total nilai : 20176\n",
      "nilai hilang : 1010\n",
      "persentase : 5.005947660586836\n"
     ]
    }
   ],
   "source": [
    "null_counts = df.isnull().sum().sum()\n",
    "total = df.size\n",
    "null_percentages = 100 * null_counts / total\n",
    "print(\"total nilai :\",total)\n",
    "print(\"nilai hilang :\",null_counts)\n",
    "print(\"persentase :\",null_percentages)"
   ]
  },
  {
   "cell_type": "code",
   "execution_count": 8,
   "id": "553162e0",
   "metadata": {
    "colab": {
     "base_uri": "https://localhost:8080/"
    },
    "id": "553162e0",
    "outputId": "5b05db4a-4ed2-4dd5-c015-83fe2a84af2d"
   },
   "outputs": [
    {
     "data": {
      "text/plain": [
       "Sector_score      7.216495\n",
       "PARA_A            5.927835\n",
       "Score_A           4.896907\n",
       "Risk_A            5.927835\n",
       "PARA_B            5.541237\n",
       "Score_B           5.025773\n",
       "Risk_B            5.927835\n",
       "TOTAL             4.381443\n",
       "numbers           4.896907\n",
       "Score_B.1         3.350515\n",
       "Risk_C            5.283505\n",
       "Money_Value       5.541237\n",
       "Score_MV          4.510309\n",
       "Risk_D            4.510309\n",
       "District_Loss     3.092784\n",
       "PROB              5.798969\n",
       "RiSk_E            6.185567\n",
       "History           6.185567\n",
       "Prob              5.541237\n",
       "Risk_F            5.154639\n",
       "Score             4.768041\n",
       "Inherent_Risk     4.252577\n",
       "CONTROL_RISK      4.510309\n",
       "Detection_Risk    5.412371\n",
       "Audit_Risk        6.314433\n",
       "Risk              0.000000\n",
       "dtype: float64"
      ]
     },
     "execution_count": 8,
     "metadata": {},
     "output_type": "execute_result"
    }
   ],
   "source": [
    "null_counts = df.isnull().sum()\n",
    "null_percentages = 100 * null_counts / len(df)\n",
    "null_percentages"
   ]
  },
  {
   "cell_type": "markdown",
   "id": "b25b20f7",
   "metadata": {
    "id": "b25b20f7"
   },
   "source": [
    "# Imputasi"
   ]
  },
  {
   "cell_type": "code",
   "execution_count": 65,
   "id": "a81c618c",
   "metadata": {
    "id": "a81c618c",
    "scrolled": true
   },
   "outputs": [
    {
     "name": "stdout",
     "output_type": "stream",
     "text": [
      "Kolom: 1\n",
      "[3.89, 55.57, 55.57]\n",
      "median: 2\n",
      "min: 3.89\n",
      "max: 55.57\n",
      "mean: 38.343333333333334\n",
      "fuzzy: [(3.89, 55.57), (55.57, 55.57), (55.57, 55.57)]\n",
      "fuzzy: 55.57\n",
      "pembilang: 6392.2171\n",
      "penyebut: 166.71\n",
      "rata-rata tertimbang: 38.343333333333334\n",
      "row, col: [1, 16, 30, 35, 45, 56, 82, 84, 85, 88, 109, 133, 187, 190, 193, 200, 206, 218, 225, 249, 273, 283, 288, 309, 322, 335, 369, 370, 392, 398, 418, 443, 462, 477, 487, 492, 498, 523, 534, 539, 556, 593, 599, 610, 614, 631, 656, 671, 676, 684, 693, 698, 732, 754, 770, 771] 0\n",
      "\n"
     ]
    },
    {
     "ename": "IndexError",
     "evalue": "list index out of range",
     "output_type": "error",
     "traceback": [
      "\u001b[1;31m---------------------------------------------------------------------------\u001b[0m",
      "\u001b[1;31mIndexError\u001b[0m                                Traceback (most recent call last)",
      "\u001b[1;32m~\\AppData\\Local\\Temp\\ipykernel_8468\\141884487.py\u001b[0m in \u001b[0;36m<module>\u001b[1;34m\u001b[0m\n\u001b[0;32m    129\u001b[0m     \u001b[0mcurrent\u001b[0m \u001b[1;33m=\u001b[0m \u001b[0mdummy\u001b[0m\u001b[1;33m.\u001b[0m\u001b[0mindex\u001b[0m\u001b[1;33m[\u001b[0m\u001b[0mdummy\u001b[0m\u001b[1;33m.\u001b[0m\u001b[0miloc\u001b[0m\u001b[1;33m[\u001b[0m\u001b[1;33m:\u001b[0m\u001b[1;33m,\u001b[0m \u001b[0mi\u001b[0m\u001b[1;33m]\u001b[0m \u001b[1;33m==\u001b[0m \u001b[1;36m0\u001b[0m\u001b[1;33m]\u001b[0m\u001b[1;33m.\u001b[0m\u001b[0mtolist\u001b[0m\u001b[1;33m(\u001b[0m\u001b[1;33m)\u001b[0m\u001b[1;33m\u001b[0m\u001b[1;33m\u001b[0m\u001b[0m\n\u001b[0;32m    130\u001b[0m     \u001b[1;32mfor\u001b[0m \u001b[0mrow\u001b[0m \u001b[1;32min\u001b[0m \u001b[0mcurrent\u001b[0m\u001b[1;33m:\u001b[0m\u001b[1;33m\u001b[0m\u001b[1;33m\u001b[0m\u001b[0m\n\u001b[1;32m--> 131\u001b[1;33m         \u001b[0mjarak\u001b[0m\u001b[1;33m(\u001b[0m\u001b[0mdummy\u001b[0m\u001b[1;33m,\u001b[0m \u001b[0mi\u001b[0m\u001b[1;33m)\u001b[0m\u001b[1;33m\u001b[0m\u001b[1;33m\u001b[0m\u001b[0m\n\u001b[0m\u001b[0;32m    132\u001b[0m         \u001b[0mresult\u001b[0m \u001b[1;33m=\u001b[0m \u001b[0mFinal\u001b[0m\u001b[1;33m(\u001b[0m\u001b[0mdummy\u001b[0m\u001b[1;33m,\u001b[0m \u001b[0mi\u001b[0m\u001b[1;33m,\u001b[0m \u001b[1;36m3\u001b[0m\u001b[1;33m)\u001b[0m\u001b[1;33m\u001b[0m\u001b[1;33m\u001b[0m\u001b[0m\n\u001b[0;32m    133\u001b[0m         \u001b[1;32mwhile\u001b[0m \u001b[0mresult\u001b[0m \u001b[1;33m==\u001b[0m \u001b[1;36m0\u001b[0m\u001b[1;33m:\u001b[0m\u001b[1;33m\u001b[0m\u001b[1;33m\u001b[0m\u001b[0m\n",
      "\u001b[1;32m~\\AppData\\Local\\Temp\\ipykernel_8468\\141884487.py\u001b[0m in \u001b[0;36mjarak\u001b[1;34m(df2, col)\u001b[0m\n\u001b[0;32m      8\u001b[0m     \u001b[1;32mfor\u001b[0m \u001b[0mrow\u001b[0m \u001b[1;32min\u001b[0m \u001b[0mrange\u001b[0m\u001b[1;33m(\u001b[0m\u001b[0mdf2\u001b[0m\u001b[1;33m.\u001b[0m\u001b[0mshape\u001b[0m\u001b[1;33m[\u001b[0m\u001b[1;36m0\u001b[0m\u001b[1;33m]\u001b[0m\u001b[1;33m)\u001b[0m\u001b[1;33m:\u001b[0m\u001b[1;33m\u001b[0m\u001b[1;33m\u001b[0m\u001b[0m\n\u001b[0;32m      9\u001b[0m         \u001b[0mcurrent\u001b[0m \u001b[1;33m=\u001b[0m \u001b[0mdf2\u001b[0m\u001b[1;33m.\u001b[0m\u001b[0mindex\u001b[0m\u001b[1;33m[\u001b[0m\u001b[0mdf2\u001b[0m\u001b[1;33m.\u001b[0m\u001b[0miloc\u001b[0m\u001b[1;33m[\u001b[0m\u001b[1;33m:\u001b[0m\u001b[1;33m,\u001b[0m \u001b[0mcol\u001b[0m\u001b[1;33m]\u001b[0m \u001b[1;33m==\u001b[0m \u001b[1;36m0\u001b[0m\u001b[1;33m]\u001b[0m\u001b[1;33m.\u001b[0m\u001b[0mtolist\u001b[0m\u001b[1;33m(\u001b[0m\u001b[1;33m)\u001b[0m\u001b[1;33m\u001b[0m\u001b[1;33m\u001b[0m\u001b[0m\n\u001b[1;32m---> 10\u001b[1;33m         \u001b[0mcurrent\u001b[0m \u001b[1;33m=\u001b[0m \u001b[0mcurrent\u001b[0m\u001b[1;33m[\u001b[0m\u001b[1;36m0\u001b[0m\u001b[1;33m]\u001b[0m\u001b[1;33m\u001b[0m\u001b[1;33m\u001b[0m\u001b[0m\n\u001b[0m\u001b[0;32m     11\u001b[0m         \u001b[0ma\u001b[0m \u001b[1;33m=\u001b[0m \u001b[0mdf2\u001b[0m\u001b[1;33m.\u001b[0m\u001b[0miloc\u001b[0m\u001b[1;33m[\u001b[0m\u001b[0mcurrent\u001b[0m\u001b[1;33m,\u001b[0m \u001b[0mcol\u001b[0m\u001b[1;33m+\u001b[0m\u001b[1;36m1\u001b[0m\u001b[1;33m:\u001b[0m\u001b[1;33m]\u001b[0m\u001b[1;33m.\u001b[0m\u001b[0mtolist\u001b[0m\u001b[1;33m(\u001b[0m\u001b[1;33m)\u001b[0m\u001b[1;33m\u001b[0m\u001b[1;33m\u001b[0m\u001b[0m\n\u001b[0;32m     12\u001b[0m         \u001b[0mb\u001b[0m \u001b[1;33m=\u001b[0m \u001b[0mdf2\u001b[0m\u001b[1;33m.\u001b[0m\u001b[0miloc\u001b[0m\u001b[1;33m[\u001b[0m\u001b[0mcurrent\u001b[0m\u001b[1;33m,\u001b[0m \u001b[1;33m:\u001b[0m\u001b[0mcol\u001b[0m\u001b[1;33m]\u001b[0m\u001b[1;33m.\u001b[0m\u001b[0mtolist\u001b[0m\u001b[1;33m(\u001b[0m\u001b[1;33m)\u001b[0m\u001b[1;33m\u001b[0m\u001b[1;33m\u001b[0m\u001b[0m\n",
      "\u001b[1;31mIndexError\u001b[0m: list index out of range"
     ]
    }
   ],
   "source": [
    "def jarak(df2,col):\n",
    "    euc_dist[col] = []\n",
    "    euc_dist_append =euc_dist[col].append\n",
    "    for row in range(df2.shape[0]):\n",
    "        current = df2.index[df2.iloc[:,col] == 0].tolist()\n",
    "        current = current[0]\n",
    "        a = df2.iloc[current,col+1:].tolist()\n",
    "        b = df2.iloc[current,:col].tolist()\n",
    "        x1 = b+a\n",
    "        if(row is not current):\n",
    "            a=df2.iloc[row,col+1:].tolist()\n",
    "            b=df2.iloc[row,:col].tolist()\n",
    "            x2=b+a\n",
    "        else:\n",
    "            continue\n",
    "        x1 = np.nan_to_num(x1)  # Mengganti nilai NaN dengan 0\n",
    "        x2 = np.nan_to_num(x2)  # Mengganti nilai NaN dengan 0\n",
    "        dist = euclidean(x1,x2)\n",
    "        euc_dist_append([dist,df2.iloc[row,col]])\n",
    "        \n",
    "#         print(\" x1 = \",x1,\"\\n x2 = \",x2,\"\\n distance = \",dist)\n",
    "\n",
    "    lst = list(euc_dist[col])\n",
    "    lst.sort()\n",
    "    euc_dist[col] = lst\n",
    "#     print(euc_dist[col])\n",
    "\n",
    "from collections import Counter\n",
    "\n",
    "def hitung(val, k, temp=None, i=0, counter=0):\n",
    "    counts = Counter(val)\n",
    "    total_count = len(counts)\n",
    "    max_count = max(counts.values())\n",
    "    max_vals = [num for num, count in counts.items() if count == max_count]\n",
    "#     print(\"max_count:\",max_count)\n",
    "#     print(\"max_vals:\",max_vals)\n",
    "#     print(\"jumlah val:\", total_count)\n",
    "    if counter >= int((k/2)+1) and total_count <= 2 :\n",
    "        print(\"median : \",int((k/2)+1))\n",
    "        return temp\n",
    "    elif i is not k:\n",
    "        if temp is None:\n",
    "            temp = val[i]\n",
    "        elif temp != val[i]:\n",
    "            temp = val[i]\n",
    "            counter = 0\n",
    "        # print(f\"temp = {temp} , counter = {counter} , i = {i} , k = {k} , median = {int((k/2)+1)}, val[i] = {val[i]}\")\n",
    "        return hitung(val,k,temp,i+1,counter+1)\n",
    "    else:\n",
    "        return None    \n",
    "\n",
    "def Final(df,col,k):\n",
    "    terdekat = []\n",
    "    mean = 0\n",
    "    minimum = None\n",
    "    maximum = None\n",
    "    fuzzy_val = []\n",
    "    euc_val = []\n",
    "    terdekat_append = terdekat.append\n",
    "    fuzzy_append = fuzzy_val.append\n",
    "    \n",
    "    for val in range(k):\n",
    "        terdekat_append(euc_dist[col][val])\n",
    "            \n",
    "    for x,y in terdekat:\n",
    "        if (minimum is None or maximum is None):\n",
    "            minimum = y\n",
    "            maximum = y\n",
    "        elif(y<minimum):\n",
    "            minimum = y\n",
    "        elif(y>maximum):\n",
    "            maximum = y\n",
    "        mean += y\n",
    "        euc_val.append(y)\n",
    "    mean /= len(terdekat)\n",
    "    euc_val.sort()\n",
    "    print(euc_val)\n",
    "    \n",
    "    fuzzy = hitung(euc_val,3)\n",
    "    \n",
    "    print(\"min : \",minimum)\n",
    "    print(\"max : \",maximum)\n",
    "    print(\"mean : \",mean)\n",
    "    for x,y in terdekat:\n",
    "        if fuzzy is None:\n",
    "            fuzzy_append((y,fuzzy_triangular(y,minimum,mean,maximum)))\n",
    "        else:\n",
    "            fuzzy_val.append((y,fuzzy))\n",
    "        \n",
    "    print(\"fuzzy : \",fuzzy_val)\n",
    "    print(\"fuzzy : \",fuzzy)\n",
    "    \n",
    "    pembilang = 0\n",
    "    penyebut = 0 \n",
    "    \n",
    "    for nilai,bobot in fuzzy_val:\n",
    "        pembilang += nilai*bobot\n",
    "        penyebut += bobot\n",
    "            \n",
    "    print(\"pembilang : \", pembilang)\n",
    "    print(\"penyebut : \",penyebut)\n",
    "    \n",
    "    if fuzzy is not None:\n",
    "        tertimbang = fuzzy\n",
    "    else:\n",
    "        tertimbang = pembilang / penyebut\n",
    "        \n",
    "    index = dummy.index[dummy.iloc[:,col] == 0].tolist()\n",
    "    index = index[0]\n",
    "    df.iloc[index, col] = tertimbang\n",
    "    print(\"rata-rata tertimbang : \",tertimbang)\n",
    "    print(\"row, col:\", index, col)\n",
    "    print(\" \")\n",
    "    \n",
    "    \n",
    "    \n",
    "        \n",
    "\n",
    "def fuzzy_triangular(val, minimum, mean, maximum):\n",
    "   if val <= minimum or val >= maximum: \n",
    "        return 0.0\n",
    "   elif minimum < val <= mean:\n",
    "        return float((val - minimum)/(mean - minimum)) \n",
    "   elif mean < val < maximum:\n",
    "        return float((maximum - val)/(maximum - mean))\n",
    "\n",
    "df2 = df.copy()\n",
    "dummy = df2.fillna(0)\n",
    "dummy.fillna(0, inplace=True)\n",
    "\n",
    "euc_dist = {}\n",
    "\n",
    "for i in range(df2.shape[1]):\n",
    "    print(\"Kolom :\",i+1)\n",
    "    current = dummy.index[dummy.iloc[:,i] == 0].tolist()    \n",
    "    for row in current:\n",
    "        jarak(dummy, i)\n",
    "        Final(dummy, i, 3)"
   ]
  },
  {
   "cell_type": "code",
   "execution_count": 25,
   "id": "711e9f5c",
   "metadata": {},
   "outputs": [
    {
     "ename": "NameError",
     "evalue": "name 'col' is not defined",
     "output_type": "error",
     "traceback": [
      "\u001b[1;31m---------------------------------------------------------------------------\u001b[0m",
      "\u001b[1;31mNameError\u001b[0m                                 Traceback (most recent call last)",
      "\u001b[1;32m~\\AppData\\Local\\Temp\\ipykernel_8468\\4118943515.py\u001b[0m in \u001b[0;36m<module>\u001b[1;34m\u001b[0m\n\u001b[1;32m----> 1\u001b[1;33m \u001b[0mindex\u001b[0m \u001b[1;33m=\u001b[0m \u001b[0mdummy\u001b[0m\u001b[1;33m.\u001b[0m\u001b[0mindex\u001b[0m\u001b[1;33m[\u001b[0m\u001b[0mdummy\u001b[0m\u001b[1;33m.\u001b[0m\u001b[0miloc\u001b[0m\u001b[1;33m[\u001b[0m\u001b[1;33m:\u001b[0m\u001b[1;33m,\u001b[0m\u001b[0mcol\u001b[0m\u001b[1;33m]\u001b[0m \u001b[1;33m==\u001b[0m \u001b[1;36m0\u001b[0m\u001b[1;33m]\u001b[0m\u001b[1;33m.\u001b[0m\u001b[0mtolist\u001b[0m\u001b[1;33m(\u001b[0m\u001b[1;33m)\u001b[0m\u001b[1;33m\u001b[0m\u001b[1;33m\u001b[0m\u001b[0m\n\u001b[0m\u001b[0;32m      2\u001b[0m \u001b[0mindex\u001b[0m\u001b[1;33m[\u001b[0m\u001b[1;36m0\u001b[0m\u001b[1;33m]\u001b[0m\u001b[1;33m\u001b[0m\u001b[1;33m\u001b[0m\u001b[0m\n\u001b[0;32m      3\u001b[0m \u001b[0mindex\u001b[0m\u001b[1;33m\u001b[0m\u001b[1;33m\u001b[0m\u001b[0m\n",
      "\u001b[1;31mNameError\u001b[0m: name 'col' is not defined"
     ]
    }
   ],
   "source": [
    "index = dummy.index[dummy.iloc[:,col] == 0].tolist()\n",
    "index[0]"
   ]
  },
  {
   "cell_type": "code",
   "execution_count": null,
   "id": "cdb1de37",
   "metadata": {},
   "outputs": [],
   "source": [
    "df2 = df.copy()\n",
    "dummy = df2.fillna(0)\n",
    "dummy.fillna(0, inplace=True)\n",
    "\n",
    "dummy['numbers'] = dummy['numbers'].fillna(0)\n",
    "\n",
    "euc_dist = {}\n",
    "\n",
    "for i in range(df2.shape[1]):\n",
    "    print(\"Kolom :\",i+1)\n",
    "    current = dummy.index[dummy.iloc[:,i] == 0].tolist()\n",
    "    for x in current:\n",
    "        jarak(dummy,i)\n",
    "        Final(dummy,i,3)"
   ]
  },
  {
   "cell_type": "code",
   "execution_count": null,
   "id": "4d3bed44",
   "metadata": {
    "id": "4d3bed44"
   },
   "outputs": [],
   "source": [
    "dummy"
   ]
  },
  {
   "cell_type": "code",
   "execution_count": null,
   "id": "76c1c25c",
   "metadata": {
    "id": "76c1c25c"
   },
   "outputs": [],
   "source": [
    "dummy.describe()"
   ]
  },
  {
   "cell_type": "markdown",
   "id": "7f8904a7",
   "metadata": {
    "id": "7f8904a7"
   },
   "source": [
    "# Klasifikasi"
   ]
  },
  {
   "cell_type": "code",
   "execution_count": null,
   "id": "52d1eae1",
   "metadata": {
    "id": "52d1eae1"
   },
   "outputs": [],
   "source": [
    "from sklearn.model_selection import train_test_split\n",
    "from sklearn.preprocessing import MinMaxScaler\n",
    "from sklearn.neighbors import KNeighborsClassifier\n",
    "from sklearn.metrics import confusion_matrix\n",
    "from sklearn.metrics import accuracy_score\n",
    "from sklearn.model_selection import GridSearchCV"
   ]
  },
  {
   "cell_type": "code",
   "execution_count": null,
   "id": "e36bcd6f",
   "metadata": {
    "id": "e36bcd6f"
   },
   "outputs": [],
   "source": [
    "x = dummy.iloc[:, :-1].values\n",
    "y = df.iloc[:, -1].values"
   ]
  },
  {
   "cell_type": "code",
   "execution_count": null,
   "id": "eef3c6d1",
   "metadata": {
    "id": "eef3c6d1"
   },
   "outputs": [],
   "source": [
    "x_train, x_test, y_train, y_test = train_test_split(x, y, test_size=0.25, random_state=0)"
   ]
  },
  {
   "cell_type": "code",
   "execution_count": null,
   "id": "22fb87fb",
   "metadata": {
    "id": "22fb87fb"
   },
   "outputs": [],
   "source": [
    "scaler = MinMaxScaler()\n",
    "x_train = scaler.fit_transform(x_train)\n",
    "x_test = scaler.transform(x_test)"
   ]
  },
  {
   "cell_type": "code",
   "execution_count": null,
   "id": "938f4c95",
   "metadata": {},
   "outputs": [],
   "source": [
    "param_grid = {'n_neighbors': [3, 5, 7, 9, 11]}"
   ]
  },
  {
   "cell_type": "code",
   "execution_count": null,
   "id": "a017810d",
   "metadata": {},
   "outputs": [],
   "source": [
    "classifier = KNeighborsClassifier(metric='euclidean')\n",
    "grid_search = GridSearchCV(classifier, param_grid, cv=5)\n",
    "grid_search.fit(x_train, y_train)"
   ]
  },
  {
   "cell_type": "code",
   "execution_count": null,
   "id": "d7622da1",
   "metadata": {},
   "outputs": [],
   "source": [
    "results = grid_search.cv_results_\n",
    "for mean_score, params in zip(results['mean_test_score'], results['params']):\n",
    "    print(\"Akurasi:\", mean_score, \"dengan parameter:\", params)"
   ]
  },
  {
   "cell_type": "code",
   "execution_count": null,
   "id": "3687352f",
   "metadata": {},
   "outputs": [],
   "source": [
    "print('Best parameter: ', grid_search.best_params_)\n",
    "print('Best score: ', grid_search.best_score_)"
   ]
  },
  {
   "cell_type": "code",
   "execution_count": null,
   "id": "2d7c5601",
   "metadata": {
    "id": "2d7c5601"
   },
   "outputs": [],
   "source": [
    "classifier = KNeighborsClassifier(n_neighbors=3, metric='euclidean')\n",
    "classifier.fit(x_train, y_train)\n",
    "y_pred = classifier.predict(x_test)\n",
    "cm = confusion_matrix(y_test, y_pred)\n",
    "accuracy = accuracy_score(y_test, y_pred)\n",
    "print(cm)\n",
    "print(accuracy)"
   ]
  },
  {
   "cell_type": "code",
   "execution_count": null,
   "id": "2b6b395b",
   "metadata": {
    "id": "2b6b395b"
   },
   "outputs": [],
   "source": [
    "classifier = KNeighborsClassifier(n_neighbors=5, metric='euclidean')\n",
    "classifier.fit(x_train, y_train)\n",
    "y_pred = classifier.predict(x_test)\n",
    "cm = confusion_matrix(y_test, y_pred)\n",
    "accuracy = accuracy_score(y_test, y_pred)\n",
    "print(cm)\n",
    "print(accuracy)"
   ]
  },
  {
   "cell_type": "code",
   "execution_count": null,
   "id": "cf307ce0",
   "metadata": {
    "id": "cf307ce0"
   },
   "outputs": [],
   "source": [
    "classifier = KNeighborsClassifier(n_neighbors=7, metric='euclidean')\n",
    "classifier.fit(x_train, y_train)\n",
    "y_pred = classifier.predict(x_test)\n",
    "cm = confusion_matrix(y_test, y_pred)\n",
    "accuracy = accuracy_score(y_test, y_pred)\n",
    "print(cm)\n",
    "print(accuracy)"
   ]
  },
  {
   "cell_type": "code",
   "execution_count": null,
   "id": "f8b9234d",
   "metadata": {
    "id": "f8b9234d"
   },
   "outputs": [],
   "source": [
    "classifier = KNeighborsClassifier(n_neighbors=9, metric='euclidean')\n",
    "classifier.fit(x_train, y_train)\n",
    "y_pred = classifier.predict(x_test)\n",
    "cm = confusion_matrix(y_test, y_pred)\n",
    "accuracy = accuracy_score(y_test, y_pred)\n",
    "print(cm)\n",
    "print(accuracy)"
   ]
  },
  {
   "cell_type": "code",
   "execution_count": null,
   "id": "c45bd26d",
   "metadata": {
    "id": "c45bd26d"
   },
   "outputs": [],
   "source": []
  },
  {
   "cell_type": "code",
   "execution_count": null,
   "id": "8ed19b3b",
   "metadata": {},
   "outputs": [],
   "source": []
  }
 ],
 "metadata": {
  "colab": {
   "provenance": []
  },
  "kernelspec": {
   "display_name": "Python 3 (ipykernel)",
   "language": "python",
   "name": "python3"
  },
  "language_info": {
   "codemirror_mode": {
    "name": "ipython",
    "version": 3
   },
   "file_extension": ".py",
   "mimetype": "text/x-python",
   "name": "python",
   "nbconvert_exporter": "python",
   "pygments_lexer": "ipython3",
   "version": "3.9.13"
  }
 },
 "nbformat": 4,
 "nbformat_minor": 5
}
